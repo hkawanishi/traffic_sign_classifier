{
 "cells": [
  {
   "cell_type": "markdown",
   "metadata": {},
   "source": [
    "# Self-Driving Car Engineer Nanodegree\n",
    "\n",
    "## Deep Learning\n",
    "\n",
    "## Project: Build a Traffic Sign Recognition Classifier\n",
    "\n",
    "In this notebook, a template is provided for you to implement your functionality in stages which is required to successfully complete this project. If additional code is required that cannot be included in the notebook, be sure that the Python code is successfully imported and included in your submission, if necessary. Sections that begin with **'Implementation'** in the header indicate where you should begin your implementation for your project. Note that some sections of implementation are optional, and will be marked with **'Optional'** in the header.\n",
    "\n",
    "In addition to implementing code, there will be questions that you must answer which relate to the project and your implementation. Each section where you will answer a question is preceded by a **'Question'** header. Carefully read each question and provide thorough answers in the following text boxes that begin with **'Answer:'**. Your project submission will be evaluated based on your answers to each of the questions and the implementation you provide.\n",
    "\n",
    ">**Note:** Code and Markdown cells can be executed using the **Shift + Enter** keyboard shortcut. In addition, Markdown cells can be edited by typically double-clicking the cell to enter edit mode."
   ]
  },
  {
   "cell_type": "markdown",
   "metadata": {},
   "source": [
    "---\n",
    "## Step 0: Load The Data"
   ]
  },
  {
   "cell_type": "code",
   "execution_count": 1,
   "metadata": {
    "collapsed": false
   },
   "outputs": [],
   "source": [
    "# Load pickled data\n",
    "import pickle\n",
    "\n",
    "# TODO: Fill this in based on where you saved the training and testing data\n",
    "\n",
    "training_file = 'train.p'\n",
    "testing_file = 'test.p'\n",
    "\n",
    "with open(training_file, mode='rb') as f:\n",
    "    train = pickle.load(f)\n",
    "with open(testing_file, mode='rb') as f:\n",
    "    test = pickle.load(f)\n",
    "    \n",
    "X_train, y_train = train['features'], train['labels']\n",
    "X_test, y_test = test['features'], test['labels']"
   ]
  },
  {
   "cell_type": "markdown",
   "metadata": {},
   "source": [
    "---\n",
    "\n",
    "## Step 1: Dataset Summary & Exploration\n",
    "\n",
    "The pickled data is a dictionary with 4 key/value pairs:\n",
    "\n",
    "- `'features'` is a 4D array containing raw pixel data of the traffic sign images, (num examples, width, height, channels).\n",
    "- `'labels'` is a 2D array containing the label/class id of the traffic sign. The file `signnames.csv` contains id -> name mappings for each id.\n",
    "- `'sizes'` is a list containing tuples, (width, height) representing the the original width and height the image.\n",
    "- `'coords'` is a list containing tuples, (x1, y1, x2, y2) representing coordinates of a bounding box around the sign in the image. **THESE COORDINATES ASSUME THE ORIGINAL IMAGE. THE PICKLED DATA CONTAINS RESIZED VERSIONS (32 by 32) OF THESE IMAGES**\n",
    "\n",
    "Complete the basic data summary below."
   ]
  },
  {
   "cell_type": "code",
   "execution_count": 2,
   "metadata": {
    "collapsed": false
   },
   "outputs": [
    {
     "name": "stdout",
     "output_type": "stream",
     "text": [
      "Number of training examples = 31367\n",
      "Number of validation examples = 7842\n",
      "Number of test examples = 12630\n",
      "Image data shape = (32, 32, 3)\n",
      "Number of classes = 43\n"
     ]
    }
   ],
   "source": [
    "### Replace each question mark with the appropriate value.\n",
    "\n",
    "# TODO: Number of training examples\n",
    "#n_train = ?\n",
    "\n",
    "# TODO: Number of testing examples.\n",
    "#n_test = ?\n",
    "\n",
    "# TODO: What's the shape of an traffic sign image?\n",
    "#image_shape = ?\n",
    "\n",
    "# TODO: How many unique classes/labels there are in the dataset.\n",
    "#n_classes = ?\n",
    "\n",
    "from sklearn.model_selection import train_test_split\n",
    "\n",
    "X_train, X_validation, y_train, y_validation = train_test_split(X_train, y_train, test_size=0.2, random_state=0)\n",
    "\n",
    "assert(len(X_train) == len(y_train))\n",
    "assert(len(X_validation) == len(y_validation))\n",
    "assert(len(X_test) == len(y_test))\n",
    "\n",
    "n_train = len(X_train)\n",
    "n_validation = len(X_validation)\n",
    "n_test = len(X_test)\n",
    "image_shape = X_train[0].shape\n",
    "n_classes = 43\n",
    "\n",
    "print(\"Number of training examples =\", n_train)\n",
    "print(\"Number of validation examples =\", n_validation)\n",
    "print(\"Number of test examples =\", n_test)\n",
    "print(\"Image data shape =\", image_shape)\n",
    "print(\"Number of classes =\", n_classes)"
   ]
  },
  {
   "cell_type": "markdown",
   "metadata": {},
   "source": [
    "Visualize the German Traffic Signs Dataset using the pickled file(s). This is open ended, suggestions include: plotting traffic sign images, plotting the count of each sign, etc.\n",
    "\n",
    "The [Matplotlib](http://matplotlib.org/) [examples](http://matplotlib.org/examples/index.html) and [gallery](http://matplotlib.org/gallery.html) pages are a great resource for doing visualizations in Python.\n",
    "\n",
    "**NOTE:** It's recommended you start with something simple first. If you wish to do more, come back to it after you've completed the rest of the sections."
   ]
  },
  {
   "cell_type": "code",
   "execution_count": 3,
   "metadata": {
    "collapsed": false,
    "scrolled": true
   },
   "outputs": [
    {
     "name": "stdout",
     "output_type": "stream",
     "text": [
      "9\n"
     ]
    },
    {
     "data": {
      "image/png": "[encoded data removed]",
      "text/plain": [
       "<matplotlib.figure.Figure at 0x7f54c5717048>"
      ]
     },
     "metadata": {},
     "output_type": "display_data"
    }
   ],
   "source": [
    "### Data exploration visualization goes here.\n",
    "### Feel free to use as many code cells as needed.\n",
    "import random\n",
    "import numpy as np\n",
    "import matplotlib.pyplot as plt\n",
    "# Visualizations will be shown in the notebook.\n",
    "%matplotlib inline\n",
    "\n",
    "index = random.randint(0, len(X_train))\n",
    "image = X_train[index].squeeze()\n",
    "\n",
    "plt.figure(figsize=(1,1))\n",
    "plt.imshow(image)\n",
    "print(y_train[index])"
   ]
  },
  {
   "cell_type": "markdown",
   "metadata": {},
   "source": [
    "----\n",
    "\n",
    "## Step 2: Design and Test a Model Architecture\n",
    "\n",
    "Design and implement a deep learning model that learns to recognize traffic signs. Train and test your model on the [German Traffic Sign Dataset](http://benchmark.ini.rub.de/?section=gtsrb&subsection=dataset).\n",
    "\n",
    "There are various aspects to consider when thinking about this problem:\n",
    "\n",
    "- Neural network architecture\n",
    "- Play around preprocessing techniques (normalization, rgb to grayscale, etc)\n",
    "- Number of examples per label (some have more than others).\n",
    "- Generate fake data.\n",
    "\n",
    "Here is an example of a [published baseline model on this problem](http://yann.lecun.com/exdb/publis/pdf/sermanet-ijcnn-11.pdf). It's not required to be familiar with the approach used in the paper but, it's good practice to try to read papers like these.\n",
    "\n",
    "**NOTE:** The LeNet-5 implementation shown in the [classroom](https://classroom.udacity.com/nanodegrees/nd013/parts/fbf77062-5703-404e-b60c-95b78b2f3f9e/modules/6df7ae49-c61c-4bb2-a23e-6527e69209ec/lessons/601ae704-1035-4287-8b11-e2c2716217ad/concepts/d4aca031-508f-4e0b-b493-e7b706120f81) at the end of the CNN lesson is a solid starting point. You'll have to change the number of classes and possibly the preprocessing, but aside from that it's plug and play!"
   ]
  },
  {
   "cell_type": "markdown",
   "metadata": {},
   "source": [
    "### Implementation\n",
    "\n",
    "Use the code cell (or multiple code cells, if necessary) to implement the first step of your project. Once you have completed your implementation and are satisfied with the results, be sure to thoroughly answer the questions that follow."
   ]
  },
  {
   "cell_type": "code",
   "execution_count": 4,
   "metadata": {
    "collapsed": false
   },
   "outputs": [],
   "source": [
    "### Preprocess the data here.\n",
    "### Feel free to use as many code cells as needed.\n",
    "### shuffle the training data.\n",
    "from sklearn.utils import shuffle\n",
    "#import cv2 <-- used with gray scale test\n",
    "\n",
    "X_train, y_train = shuffle(X_train, y_train)\n",
    "X_validation, y_validation = shuffle(X_validation, y_validation)\n",
    "X_test, y_test = shuffle(X_test, y_test)"
   ]
  },
  {
   "cell_type": "code",
   "execution_count": 5,
   "metadata": {
    "collapsed": false
   },
   "outputs": [],
   "source": [
    "### setup tensor flow\n",
    "import tensorflow as tf\n",
    "\n",
    "EPOCHS = 10\n",
    "#EPOCHS = 20\n",
    "#BATCH_SIZE = 128\n",
    "BATCH_SIZE = 64"
   ]
  },
  {
   "cell_type": "code",
   "execution_count": 6,
   "metadata": {
    "collapsed": true
   },
   "outputs": [],
   "source": [
    "from tensorflow.contrib.layers import flatten\n",
    "\n",
    "def LeNet(x):    \n",
    "    # Hyperparameters\n",
    "    mu = 0\n",
    "    sigma = 0.1\n",
    "    \n",
    "    # SOLUTION: Layer 1: Convolutional. Input = 32x32x1. Output = 28x28x6.\n",
    "    #conv1_W = tf.Variable(tf.truncated_normal(shape=(5, 5, 3, 6), mean = mu, stddev = sigma))\n",
    "    # SOLUTION: Layer 1: Convolutional. Input = 32x32x1. Output = 30x30x6. try 3x3.\n",
    "    conv1_W = tf.Variable(tf.truncated_normal(shape=(3, 3, 3, 6), mean = mu, stddev = sigma))\n",
    "    conv1_b = tf.Variable(tf.zeros(6))\n",
    "    conv1   = tf.nn.conv2d(x, conv1_W, strides=[1, 1, 1, 1], padding='VALID') + conv1_b\n",
    "\n",
    "    # SOLUTION: Activation.\n",
    "    conv1 = tf.nn.relu(conv1)\n",
    "    \n",
    "    # Layer 2: Convolutional. input = 30x30x6. Output = 28x28x16. try 3x3.\n",
    "    conv2_W = tf.Variable(tf.truncated_normal(shape=(3, 3, 6, 16), mean = mu, stddev = sigma))\n",
    "    conv2_b = tf.Variable(tf.zeros(16))\n",
    "    conv2   = tf.nn.conv2d(conv1, conv2_W, strides=[1, 1, 1, 1], padding='VALID') + conv2_b\n",
    "    \n",
    "    # SOLUTION: Activation.\n",
    "    conv2 = tf.nn.relu(conv2)\n",
    "\n",
    "    # SOLUTION: Pooling. Input = 28x28x16. Output = 14x14x16.\n",
    "    conv2 = tf.nn.max_pool(conv2, ksize=[1, 2, 2, 1], strides=[1, 2, 2, 1], padding='VALID')\n",
    "\n",
    "\n",
    "    # SOLUTION: Layer 3: Convolutional. Output = 14x14x16, Output = 10x10x24. 5x5\n",
    "    conv3_W = tf.Variable(tf.truncated_normal(shape=(5, 5, 16, 24), mean = mu, stddev = sigma))\n",
    "    conv3_b = tf.Variable(tf.zeros(24))\n",
    "    conv3   = tf.nn.conv2d(conv2, conv3_W, strides=[1, 1, 1, 1], padding='VALID') + conv3_b\n",
    "    \n",
    "    # SOLUTION: Activation.\n",
    "    conv3 = tf.nn.relu(conv3)\n",
    "\n",
    "    # SOLUTION: Pooling. Input = 10x10x24. Output = 5x5x24.\n",
    "    conv3 = tf.nn.max_pool(conv3, ksize=[1, 2, 2, 1], strides=[1, 2, 2, 1], padding='VALID')\n",
    "\n",
    "    # SOLUTION: Flatten. Input = 5x5x24. Output = 600.\n",
    "    fc0   = flatten(conv3)\n",
    "    \n",
    "    # SOLUTION: Layer 3: Fully Connected. Input = 600. Output = 120.\n",
    "    fc1_W = tf.Variable(tf.truncated_normal(shape=(600, 120), mean = mu, stddev = sigma))\n",
    "    fc1_b = tf.Variable(tf.zeros(120))\n",
    "    fc1   = tf.matmul(fc0, fc1_W) + fc1_b\n",
    "    \n",
    "    # SOLUTION: Activation.\n",
    "    fc1    = tf.nn.relu(fc1)\n",
    "\n",
    "    # SOLUTION: Layer 4: Fully Connected. Input = 120. Output = 84.\n",
    "    fc2_W  = tf.Variable(tf.truncated_normal(shape=(120, 84), mean = mu, stddev = sigma))\n",
    "    fc2_b  = tf.Variable(tf.zeros(84))\n",
    "    fc2    = tf.matmul(fc1, fc2_W) + fc2_b\n",
    "    \n",
    "    # SOLUTION: Activation.\n",
    "    fc2    = tf.nn.relu(fc2)\n",
    "\n",
    "    # SOLUTION: Layer 5: Fully Connected. Input = 84. Output = 43.\n",
    "    fc3_W  = tf.Variable(tf.truncated_normal(shape=(84, 43), mean = mu, stddev = sigma))\n",
    "    fc3_b  = tf.Variable(tf.zeros(43))\n",
    "    logits = tf.matmul(fc2, fc3_W) + fc3_b\n",
    "    \n",
    "    return logits"
   ]
  },
  {
   "cell_type": "code",
   "execution_count": 7,
   "metadata": {
    "collapsed": true
   },
   "outputs": [],
   "source": [
    "x = tf.placeholder(tf.float32, (None, 32, 32, 3))\n",
    "#x = tf.placeholder(tf.float32, (None, 32, 32, 1))\n",
    "y = tf.placeholder(tf.int32, (None))\n",
    "one_hot_y = tf.one_hot(y, 43)"
   ]
  },
  {
   "cell_type": "code",
   "execution_count": 8,
   "metadata": {
    "collapsed": false
   },
   "outputs": [],
   "source": [
    "### training pipeline\n",
    "rate = 0.001\n",
    "#rate = 0.0003\n",
    "#rate = 0.0001\n",
    "\n",
    "logits = LeNet(x)\n",
    "cross_entropy = tf.nn.softmax_cross_entropy_with_logits(logits, one_hot_y)\n",
    "loss_operation = tf.reduce_mean(cross_entropy)\n",
    "optimizer = tf.train.AdamOptimizer(learning_rate = rate)\n",
    "training_operation = optimizer.minimize(loss_operation)"
   ]
  },
  {
   "cell_type": "code",
   "execution_count": 9,
   "metadata": {
    "collapsed": true
   },
   "outputs": [],
   "source": [
    "### model evaluation\n",
    "correct_prediction = tf.equal(tf.argmax(logits, 1), tf.argmax(one_hot_y, 1))\n",
    "accuracy_operation = tf.reduce_mean(tf.cast(correct_prediction, tf.float32))\n",
    "saver = tf.train.Saver()\n",
    "\n",
    "def evaluate(X_data, y_data):\n",
    "    num_examples = len(X_data)\n",
    "    total_accuracy = 0\n",
    "    sess = tf.get_default_session()\n",
    "    for offset in range(0, num_examples, BATCH_SIZE):\n",
    "        batch_x, batch_y = X_data[offset:offset+BATCH_SIZE], y_data[offset:offset+BATCH_SIZE]\n",
    "        accuracy = sess.run(accuracy_operation, feed_dict={x: batch_x, y: batch_y})\n",
    "        total_accuracy += (accuracy * len(batch_x))\n",
    "    return total_accuracy / num_examples"
   ]
  },
  {
   "cell_type": "code",
   "execution_count": 10,
   "metadata": {
    "collapsed": false
   },
   "outputs": [
    {
     "name": "stdout",
     "output_type": "stream",
     "text": [
      "Training...\n",
      "\n",
      "EPOCH 1 ...\n",
      "Validation Accuracy = 0.874\n",
      "\n",
      "EPOCH 2 ...\n",
      "Validation Accuracy = 0.937\n",
      "\n",
      "EPOCH 3 ...\n",
      "Validation Accuracy = 0.945\n",
      "\n",
      "EPOCH 4 ...\n",
      "Validation Accuracy = 0.966\n",
      "\n",
      "EPOCH 5 ...\n",
      "Validation Accuracy = 0.961\n",
      "\n",
      "EPOCH 6 ...\n",
      "Validation Accuracy = 0.967\n",
      "\n",
      "EPOCH 7 ...\n",
      "Validation Accuracy = 0.973\n",
      "\n",
      "EPOCH 8 ...\n",
      "Validation Accuracy = 0.967\n",
      "\n",
      "EPOCH 9 ...\n",
      "Validation Accuracy = 0.983\n",
      "\n",
      "EPOCH 10 ...\n",
      "Validation Accuracy = 0.976\n",
      "\n",
      "Model saved\n"
     ]
    }
   ],
   "source": [
    "### train the model\n",
    "\n",
    "with tf.Session() as sess:\n",
    "    sess.run(tf.global_variables_initializer())\n",
    "    num_examples = len(X_train)\n",
    "    \n",
    "    print(\"Training...\")\n",
    "    print()\n",
    "    for i in range(EPOCHS):\n",
    "        X_train, y_train = shuffle(X_train, y_train)\n",
    "        for offset in range(0, num_examples, BATCH_SIZE):\n",
    "            end = offset + BATCH_SIZE\n",
    "            batch_x, batch_y = X_train[offset:end], y_train[offset:end]\n",
    "            sess.run(training_operation, feed_dict={x: batch_x, y: batch_y})\n",
    "            \n",
    "        validation_accuracy = evaluate(X_validation, y_validation)\n",
    "        print(\"EPOCH {} ...\".format(i+1))\n",
    "        print(\"Validation Accuracy = {:.3f}\".format(validation_accuracy))\n",
    "        print()\n",
    "        \n",
    "    saver.save(sess, 'lenet')\n",
    "    print(\"Model saved\")"
   ]
  },
  {
   "cell_type": "code",
   "execution_count": 11,
   "metadata": {
    "collapsed": false
   },
   "outputs": [
    {
     "name": "stdout",
     "output_type": "stream",
     "text": [
      "Test Accuracy = 0.920\n"
     ]
    }
   ],
   "source": [
    "### Evaluate the model with test data\n",
    "with tf.Session() as sess:\n",
    "    saver.restore(sess, tf.train.latest_checkpoint('.'))\n",
    "\n",
    "    test_accuracy = evaluate(X_test, y_test)\n",
    "    print(\"Test Accuracy = {:.3f}\".format(test_accuracy))"
   ]
  },
  {
   "cell_type": "markdown",
   "metadata": {},
   "source": [
    "### Question 1 \n",
    "\n",
    "_Describe how you preprocessed the data. Why did you choose that technique?_"
   ]
  },
  {
   "cell_type": "markdown",
   "metadata": {},
   "source": [
    "**Answer:**"
   ]
  },
  {
   "cell_type": "markdown",
   "metadata": {
    "collapsed": true
   },
   "source": [
    "I just used shuffle() for preprocessing.  \n",
    "I was going to do something if I had a problem fitting the data\n",
    "but I got a decent accuracy so I didn't do something extra.\n",
    "Since the model is really not predicting well with my new set, I also tried applying gray scale (I found somebody to code in our carnd-forums so I just used his code and see if it improves) but sadly the accuracy didn't improve at all so I removed that part of code.  "
   ]
  },
  {
   "cell_type": "markdown",
   "metadata": {},
   "source": [
    "### Question 2\n",
    "\n",
    "_Describe how you set up the training, validation and testing data for your model. **Optional**: If you generated additional data, how did you generate the data? Why did you generate the data? What are the differences in the new dataset (with generated data) from the original dataset?_"
   ]
  },
  {
   "cell_type": "markdown",
   "metadata": {},
   "source": [
    "**Answer:**"
   ]
  },
  {
   "cell_type": "markdown",
   "metadata": {
    "collapsed": true
   },
   "source": [
    "I used 20% of the training data as the validation.  "
   ]
  },
  {
   "cell_type": "markdown",
   "metadata": {},
   "source": [
    "### Question 3\n",
    "\n",
    "_What does your final architecture look like? (Type of model, layers, sizes, connectivity, etc.)  For reference on how to build a deep neural network using TensorFlow, see [Deep Neural Network in TensorFlow\n",
    "](https://classroom.udacity.com/nanodegrees/nd013/parts/fbf77062-5703-404e-b60c-95b78b2f3f9e/modules/6df7ae49-c61c-4bb2-a23e-6527e69209ec/lessons/b516a270-8600-4f93-a0a3-20dfeabe5da6/concepts/83a3a2a2-a9bd-4b7b-95b0-eb924ab14432) from the classroom._\n"
   ]
  },
  {
   "cell_type": "markdown",
   "metadata": {},
   "source": [
    "**Answer:**"
   ]
  },
  {
   "cell_type": "markdown",
   "metadata": {
    "collapsed": true
   },
   "source": [
    "conv1 -> RELU -> conv2 -> RELU -> max. pool -> conv3 -> RELU -> max. pool -> (flattern) -> FC -> FC -> FC\n",
    "\n",
    "conv1: input 32x32x6, output 30x30x6, filter 3x3\n",
    "conv2: input 30x30x6, output 28x28x16, filter 3x3\n",
    "pool: input 28x28x16, output 14x14x16\n",
    "conv3: input 14x14x16, output 10x10x24, filter 5x4\n",
    "pool: input 10x10x24, output 5x5x24\n",
    "fc: 600x120\n",
    "fc: 120x84\n",
    "fc: 84x43"
   ]
  },
  {
   "cell_type": "markdown",
   "metadata": {},
   "source": [
    "### Question 4\n",
    "\n",
    "_How did you train your model? (Type of optimizer, batch size, epochs, hyperparameters, etc.)_\n"
   ]
  },
  {
   "cell_type": "markdown",
   "metadata": {},
   "source": [
    "I tried changing with learning rate, epochs, and batch size.  In the end, I picked:\n",
    "learning rate = 0.001\n",
    "epochs = 10\n",
    "batch size = 68"
   ]
  },
  {
   "cell_type": "markdown",
   "metadata": {},
   "source": [
    "### Question 5\n",
    "\n",
    "\n",
    "_What approach did you take in coming up with a solution to this problem? It may have been a process of trial and error, in which case, outline the steps you took to get to the final solution and why you chose those steps. Perhaps your solution involved an already well known implementation or architecture. In this case, discuss why you think this is suitable for the current problem._"
   ]
  },
  {
   "cell_type": "markdown",
   "metadata": {},
   "source": [
    "I first implemented the code I did for the LeNet project in Lesson 10.  I used that as a guideline and tried to improve the model.  My approach is a process of trail and error.  I looked at the training accuracy value and decided if I wanted to change or not.\n",
    "\n",
    "My approach was as follows:\n",
    " \n",
    "(1) first I tried changing learning rate, epochs and batch size, because they are something I could change easily.  After some runs, I changed back the learning rate and epochs to the original values but reduced Batch Size as changing learning rate and increasing epochs didn't seem to improve much.  I tried smaller batch size (smaller than 64) but this didn't \n",
    "(2) next I investigated convolution layers.  I tried using a 3x3 filter for first two layers and add one more layer (note: I wanted to add max. pool after each layer but the size becaume odd x odd numbers and I didn't know if I could do it.  I just add another layer without max pool).  This seems to improve the accuracy.  It gave me 97-98% of accuracy for the training data.  I also tried to just simply add one more layer with 5x5 filter but it didn't improve the accuracy.  So I decided to keep 3x3 filter.\n",
    "(3) I changed the number of maps in the convolution layers.  For example, for the first layer, instead of using output 28x28x6, I tried 28x28x12, and so on.  But this slowed down the computation and didn't improve the accuracy.\n",
    "(4) I added one more layer for full-connected part.  Also, tried to change the dimension in the hidden layers.  These did not improve and actually made the accuracy going up and down. \n",
    "(5) Finally I also tried dropout in FC layer.  Did not see any change, decided not use it.  \n",
    "\n",
    "In the end, with the small tests I conducted, changing 5x5 filter to 3x3 filter was the one I noticed the results improved so I decided to implement it.  I also reduced the batch size. \n",
    "I picked a smaller size filter because this traffic sign sets have more details lines than the number set we did previously, and I thought analyzing with a smaller filter works better.  I actually thought increasing map sizes would increase the accuracy because this set is not only more complicated but also has color (compared with the number set), but it didn't.  "
   ]
  },
  {
   "cell_type": "markdown",
   "metadata": {},
   "source": [
    "---\n",
    "\n",
    "## Step 3: Test a Model on New Images\n",
    "\n",
    "Take several pictures of traffic signs that you find on the web or around you (at least five), and run them through your classifier on your computer to produce example results. The classifier might not recognize some local signs but it could prove interesting nonetheless.\n",
    "\n",
    "You may find `signnames.csv` useful as it contains mappings from the class id (integer) to the actual sign name."
   ]
  },
  {
   "cell_type": "markdown",
   "metadata": {},
   "source": [
    "### Implementation\n",
    "\n",
    "Use the code cell (or multiple code cells, if necessary) to implement the first step of your project. Once you have completed your implementation and are satisfied with the results, be sure to thoroughly answer the questions that follow."
   ]
  },
  {
   "cell_type": "code",
   "execution_count": 12,
   "metadata": {
    "collapsed": false
   },
   "outputs": [
    {
     "name": "stdout",
     "output_type": "stream",
     "text": [
      "51\n"
     ]
    },
    {
     "data": {
      "image/png": "[encoded data removed]",
      "text/plain": [
       "<matplotlib.figure.Figure at 0x7f5449afd908>"
      ]
     },
     "metadata": {},
     "output_type": "display_data"
    }
   ],
   "source": [
    "### Load the images and plot them here.\n",
    "### Feel free to use as many code cells as needed.\n",
    "import tensorflow as tf\n",
    "import random\n",
    "import numpy as np\n",
    "import matplotlib.pyplot as plt\n",
    "import matplotlib.image as mpimg\n",
    "import cv2\n",
    "\n",
    "my_images = []\n",
    "def prepare_image(png_file):\n",
    "    image = mpimg.imread(png_file)\n",
    "    #image = np.delete(image, 3, 2) \n",
    "    resized = cv2.resize(image, (32, 32))\n",
    "    #img = mpimg.imread(png_file)\n",
    "    #resized = np.delete(img, 3, 2)\n",
    "    my_images.append(resized)\n",
    "    #my_images.append(tf.image.resize_images(resized, (32, 32)))\n",
    "\n",
    "prepare_image('stop3.png')\n",
    "prepare_image('right_turn_3.png')\n",
    "prepare_image('left_turn_3.png')\n",
    "prepare_image('turn_right.png')\n",
    "prepare_image('speed_limit_40_3.png')\n",
    "\n",
    "#image2 = mpimg.imread('speed_limit_40_3.png')\n",
    "#image2_shape = image2.shape\n",
    "#print(image2_shape)\n",
    "\n",
    "\n",
    "my_images_label=[14, 33, 34, 33, 51] # speed limit signs are not included in training\n",
    "\n",
    "#%matplotlib inline\n",
    "\n",
    "index = random.randint(0, len(my_images)-1)\n",
    "plt.imshow(my_images[index])\n",
    "print(my_images_label[index])\n"
   ]
  },
  {
   "cell_type": "markdown",
   "metadata": {},
   "source": [
    "### Question 6\n",
    "\n",
    "_Choose five candidate images of traffic signs and provide them in the report. Are there any particular qualities of the image(s) that might make classification difficult? It could be helpful to plot the images in the notebook._\n",
    "\n"
   ]
  },
  {
   "cell_type": "markdown",
   "metadata": {},
   "source": [
    "**Answer:**"
   ]
  },
  {
   "cell_type": "code",
   "execution_count": 13,
   "metadata": {
    "collapsed": false
   },
   "outputs": [
    {
     "name": "stdout",
     "output_type": "stream",
     "text": [
      "[[  3.74231931e-05   1.06983166e-02   4.26933775e-03   3.65999676e-02\n",
      "    5.64098917e-03   4.87252951e-01   1.93720928e-03   5.53656882e-03\n",
      "    1.13177607e-02   6.38963934e-03   5.70313539e-04   4.73031634e-03\n",
      "    1.60981333e-04   2.51255203e-02   2.68880365e-04   6.05194597e-04\n",
      "    3.94718722e-02   7.62159098e-03   3.06523452e-03   1.35805734e-04\n",
      "    2.23665126e-02   2.76304199e-05   2.77054369e-05   1.55922789e-02\n",
      "    1.68419225e-04   1.36979448e-03   3.99604498e-04   2.62735284e-06\n",
      "    1.83327263e-03   1.30262022e-04   2.33860314e-03   4.60876501e-04\n",
      "    5.68819009e-02   1.46030122e-02   2.57640406e-02   1.00371074e-02\n",
      "    3.91241759e-02   2.74928212e-02   5.80577813e-02   8.66380241e-03\n",
      "    2.31978670e-02   5.47986291e-03   3.45441848e-02]\n",
      " [  4.01018879e-05   1.52435219e-02   4.76925541e-03   2.16257386e-02\n",
      "    1.05565982e-02   3.39572310e-01   1.67946157e-03   7.29662599e-03\n",
      "    1.11640347e-02   1.30877830e-02   4.08664142e-04   2.08580564e-03\n",
      "    1.06435946e-04   3.45351622e-02   2.12568732e-04   1.08624378e-03\n",
      "    1.10750571e-01   1.58109348e-02   1.36276614e-03   8.40908833e-05\n",
      "    2.26464570e-02   1.62453780e-05   2.10540620e-05   1.36999572e-02\n",
      "    7.61827177e-05   1.72834704e-03   1.51219312e-04   7.48954619e-07\n",
      "    9.99628217e-04   8.57038904e-05   1.30977714e-03   1.80503528e-04\n",
      "    7.46113732e-02   1.22991623e-02   2.55474076e-02   9.02877934e-03\n",
      "    5.79953082e-02   1.53598692e-02   9.27095264e-02   4.72341850e-03\n",
      "    3.65564264e-02   6.83748676e-03   3.19367796e-02]\n",
      " [  5.76274288e-05   1.15814842e-02   3.64906364e-03   1.44588258e-02\n",
      "    1.12441694e-02   3.92622739e-01   1.91092072e-03   5.39309252e-03\n",
      "    1.53096663e-02   4.90968022e-03   5.82021952e-04   3.19519197e-03\n",
      "    8.06122844e-05   4.55644093e-02   2.60031549e-04   8.62656976e-04\n",
      "    7.13529661e-02   1.49383880e-02   3.06120631e-03   2.35398431e-04\n",
      "    2.61265226e-02   3.71147107e-05   4.88597907e-05   1.94902066e-02\n",
      "    3.17883241e-04   1.91748899e-03   3.27714719e-04   1.68117640e-06\n",
      "    1.33994000e-03   1.17881929e-04   3.21871368e-03   6.27528701e-04\n",
      "    3.92972417e-02   1.66133940e-02   2.35541221e-02   8.17276444e-03\n",
      "    5.62321618e-02   5.07161915e-02   8.14083964e-02   7.71922478e-03\n",
      "    3.70952860e-02   4.33134567e-03   2.00182516e-02]\n",
      " [  3.53488904e-05   1.11787142e-02   4.40853508e-03   2.72744317e-02\n",
      "    8.22246540e-03   3.08354408e-01   1.72447856e-03   5.34663256e-03\n",
      "    7.62472954e-03   1.32035129e-02   4.86080156e-04   2.40846071e-03\n",
      "    9.19788872e-05   3.68221998e-02   1.89630591e-04   8.18099419e-04\n",
      "    9.11219493e-02   1.17379436e-02   1.21089991e-03   9.18108926e-05\n",
      "    1.61751620e-02   1.28479451e-05   1.29283035e-05   1.15604615e-02\n",
      "    5.12367478e-05   1.67821976e-03   1.75216061e-04   7.04945478e-07\n",
      "    8.09772580e-04   7.28053710e-05   8.16571701e-04   1.78594710e-04\n",
      "    6.90834299e-02   1.57267414e-02   4.10349108e-02   1.12856124e-02\n",
      "    8.98500532e-02   1.34669654e-02   1.25098899e-01   4.46997816e-03\n",
      "    3.40607017e-02   6.39431085e-03   2.56315917e-02]\n",
      " [  2.00087361e-05   8.65770318e-03   2.68493523e-03   4.01812121e-02\n",
      "    5.16218971e-03   3.70772600e-01   1.35562767e-03   2.50310521e-03\n",
      "    8.78436025e-03   8.52149911e-03   4.53027751e-04   4.10538400e-03\n",
      "    1.31415494e-04   1.56319384e-02   1.27641004e-04   3.08472925e-04\n",
      "    5.28999418e-02   5.08946646e-03   2.13939161e-03   1.22408921e-04\n",
      "    1.73211452e-02   1.20911136e-05   1.96046367e-05   1.17394412e-02\n",
      "    7.31899054e-05   1.18302321e-03   2.82471330e-04   1.60333661e-06\n",
      "    1.27860054e-03   8.43302769e-05   1.50262669e-03   2.43574250e-04\n",
      "    7.22848177e-02   2.81549152e-02   5.31603470e-02   2.01795995e-02\n",
      "    1.10763736e-01   2.58160327e-02   6.71056658e-02   5.79122500e-03\n",
      "    2.77113430e-02   5.43835573e-03   2.01998353e-02]]\n"
     ]
    }
   ],
   "source": [
    "### Run the predictions here.\n",
    "### Feel free to use as many code cells as needed.\n",
    "### Evaluate the model with test data\n",
    "\n",
    "with tf.Session() as sess:\n",
    "    saver.restore(sess, tf.train.latest_checkpoint('.'))  \n",
    "    pred = tf.nn.softmax(logits)\n",
    "    #pred = tf.argmax(tf.nn.softmax(logits), 1)\n",
    "    new_predictions = sess.run(pred, feed_dict={x:my_images})\n",
    "    #sign_pred = tf.argmax(pred, 1)\n",
    "    print(new_predictions)\n",
    "    #print(new_predictions)"
   ]
  },
  {
   "cell_type": "markdown",
   "metadata": {},
   "source": [
    "### Question 7\n",
    "\n",
    "_Is your model able to perform equally well on captured pictures when compared to testing on the dataset? The simplest way to do this check the accuracy of the predictions. For example, if the model predicted 1 out of 5 signs correctly, it's 20% accurate._\n",
    "\n",
    "_**NOTE:** You could check the accuracy manually by using `signnames.csv` (same directory). This file has a mapping from the class id (0-42) to the corresponding sign name. So, you could take the class id the model outputs, lookup the name in `signnames.csv` and see if it matches the sign from the image._\n"
   ]
  },
  {
   "cell_type": "markdown",
   "metadata": {},
   "source": [
    "**Answer:**"
   ]
  },
  {
   "cell_type": "markdown",
   "metadata": {
    "collapsed": true
   },
   "source": [
    "### Visualize the softmax probabilities here.\n",
    "### Feel free to use as many code cells as needed.\n",
    "\n",
    "It doesn't look like it is accurately predicting the sign correctly.  I have two speed limit sign I used: one is for 35 mph and the other is for 40 mph.  Since these are not in the trainign set, I didn't think the model would accurately predict them.  However, I was hoping that my stop sign, left-turn coming, and right-turn coming signs would accurately be predicted.  But the model didn't.\n"
   ]
  },
  {
   "cell_type": "markdown",
   "metadata": {},
   "source": [
    "### Question 8\n",
    "\n",
    "*Use the model's softmax probabilities to visualize the **certainty** of its predictions, [`tf.nn.top_k`](https://www.tensorflow.org/versions/r0.12/api_docs/python/nn.html#top_k) could prove helpful here. Which predictions is the model certain of? Uncertain? If the model was incorrect in its initial prediction, does the correct prediction appear in the top k? (k should be 5 at most)*\n",
    "\n",
    "`tf.nn.top_k` will return the values and indices (class ids) of the top k predictions. So if k=3, for each sign, it'll return the 3 largest probabilities (out of a possible 43) and the correspoding class ids.\n",
    "\n",
    "Take this numpy array as an example:\n",
    "\n",
    "```\n",
    "# (5, 6) array\n",
    "a = np.array([[ 0.24879643,  0.07032244,  0.12641572,  0.34763842,  0.07893497,\n",
    "         0.12789202],\n",
    "       [ 0.28086119,  0.27569815,  0.08594638,  0.0178669 ,  0.18063401,\n",
    "         0.15899337],\n",
    "       [ 0.26076848,  0.23664738,  0.08020603,  0.07001922,  0.1134371 ,\n",
    "         0.23892179],\n",
    "       [ 0.11943333,  0.29198961,  0.02605103,  0.26234032,  0.1351348 ,\n",
    "         0.16505091],\n",
    "       [ 0.09561176,  0.34396535,  0.0643941 ,  0.16240774,  0.24206137,\n",
    "         0.09155967]])\n",
    "```\n",
    "\n",
    "Running it through `sess.run(tf.nn.top_k(tf.constant(a), k=3))` produces:\n",
    "\n",
    "```\n",
    "TopKV2(values=array([[ 0.34763842,  0.24879643,  0.12789202],\n",
    "       [ 0.28086119,  0.27569815,  0.18063401],\n",
    "       [ 0.26076848,  0.23892179,  0.23664738],\n",
    "       [ 0.29198961,  0.26234032,  0.16505091],\n",
    "       [ 0.34396535,  0.24206137,  0.16240774]]), indices=array([[3, 0, 5],\n",
    "       [0, 1, 4],\n",
    "       [0, 5, 1],\n",
    "       [1, 3, 5],\n",
    "       [1, 4, 3]], dtype=int32))\n",
    "```\n",
    "\n",
    "Looking just at the first row we get `[ 0.34763842,  0.24879643,  0.12789202]`, you can confirm these are the 3 largest probabilities in `a`. You'll also notice `[3, 0, 5]` are the corresponding indices."
   ]
  },
  {
   "cell_type": "markdown",
   "metadata": {},
   "source": [
    "**Answer:**"
   ]
  },
  {
   "cell_type": "markdown",
   "metadata": {},
   "source": [
    "> **Note**: Once you have completed all of the code implementations and successfully answered each question above, you may finalize your work by exporting the iPython Notebook as an HTML document. You can do this by using the menu above and navigating to  \\n\",\n",
    "    \"**File -> Download as -> HTML (.html)**. Include the finished document along with this notebook as your submission."
   ]
  },
  {
   "cell_type": "code",
   "execution_count": 14,
   "metadata": {
    "collapsed": false
   },
   "outputs": [
    {
     "name": "stdout",
     "output_type": "stream",
     "text": [
      "TopKV2(values=array([[ 0.48725295,  0.05805778,  0.0568819 ],\n",
      "       [ 0.33957231,  0.11075057,  0.09270953],\n",
      "       [ 0.39262274,  0.0814084 ,  0.07135297],\n",
      "       [ 0.30835441,  0.1250989 ,  0.09112195],\n",
      "       [ 0.3707726 ,  0.11076374,  0.07228482]], dtype=float32), indices=array([[ 5, 38, 32],\n",
      "       [ 5, 16, 38],\n",
      "       [ 5, 38, 16],\n",
      "       [ 5, 38, 16],\n",
      "       [ 5, 36, 32]], dtype=int32))\n"
     ]
    }
   ],
   "source": [
    "with tf.Session() as sess:\n",
    "    saver.restore(sess, tf.train.latest_checkpoint('.'))  \n",
    "    pred = tf.nn.softmax(logits)\n",
    "    top_3 = tf.nn.top_k(pred, 3)\n",
    "    top3_answer = sess.run(top_3, feed_dict={x:my_images})\n",
    "    print(top3_answer)"
   ]
  },
  {
   "cell_type": "code",
   "execution_count": null,
   "metadata": {
    "collapsed": true
   },
   "outputs": [],
   "source": []
  }
 ],
 "metadata": {
  "anaconda-cloud": {},
  "kernelspec": {
   "display_name": "Python 3",
   "language": "python",
   "name": "python3"
  },
  "language_info": {
   "codemirror_mode": {
    "name": "ipython",
    "version": 3
   },
   "file_extension": ".py",
   "mimetype": "text/x-python",
   "name": "python",
   "nbconvert_exporter": "python",
   "pygments_lexer": "ipython3",
   "version": "3.5.2"
  },
  "widgets": {
   "state": {},
   "version": "1.1.2"
  }
 },
 "nbformat": 4,
 "nbformat_minor": 1
}
